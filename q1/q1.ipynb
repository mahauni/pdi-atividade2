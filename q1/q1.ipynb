{
 "cells": [
  {
   "cell_type": "code",
   "execution_count": 140,
   "metadata": {},
   "outputs": [],
   "source": [
    "import cv2\n",
    "import matplotlib.pyplot as plt\n",
    "import numpy as np"
   ]
  },
  {
   "cell_type": "code",
   "execution_count": null,
   "metadata": {},
   "outputs": [],
   "source": [
    "## implementar a função que identifica a bandeira\n",
    "## a função deve receber uma imagem e retornar a bandeira identificada\n",
    "## a função deve retornar uma lista de tuplas, onde cada tupla contém as coordenadas de um dos cantos da bandeira\n",
    "## [(PAIS, (x1, y2), (x2, y2)`),(PAIS, (x1, y2), (x2, y2)`),(PAIS, (x1, y2), (x2, y2)`),...]\n",
    "\n",
    "def identifica_bandeira(img):\n",
    "    \n",
    "    gray = cv2.cvtColor(img, cv2.COLOR_BGR2GRAY)\n",
    "    \n",
    "    for y in range(0, gray.shape[0]):\n",
    "        for x in range(0, gray.shape[1]):\n",
    "            if (gray[y][x] > 10):\n",
    "                gray[y][x] = 255\n",
    "    \n",
    "\n",
    "    contours, _ = cv2.findContours(gray, cv2.RETR_EXTERNAL, cv2.CHAIN_APPROX_SIMPLE)\n",
    "\n",
    "    bandeiras = []\n",
    "    for cnt in contours:\n",
    "        x, y, w, h = cv2.boundingRect(cnt)  \n",
    "\n",
    "        roi = img[y:y+h, x:x+w]  \n",
    "        pais = classifica_bandeira(roi)  \n",
    "        bandeiras.append((pais, (x, y), (x + w, y + h)))\n",
    "\n",
    "    return bandeiras\n",
    "\n",
    "def classifica_bandeira(roi):\n",
    "    hsv = cv2.cvtColor(roi, cv2.COLOR_BGR2HSV)\n",
    "    \n",
    "    cor_sup_esq = hsv[0 + 5, 0 + 5]  \n",
    "    cor_inf_esq = hsv[hsv.shape[0] - 5, hsv.shape[1] - 5]  \n",
    "\n",
    "    if cor_sup_esq[0] > 170 and cor_inf_esq[0] < 10:  \n",
    "        return \"peru\"\n",
    "    elif cor_sup_esq[0] > 170 and cor_inf_esq[0] > 10:  \n",
    "        return \"monaco\"\n",
    "    elif cor_sup_esq[0] > 170 and cor_inf_esq[0] > 170:\n",
    "        return \"singapura\"\n",
    "    elif 70 < cor_sup_esq[0] < 80 and cor_inf_esq[0] > 170:  \n",
    "        return \"italia\"\n",
    "    elif 70 < cor_sup_esq[0] < 80 and cor_inf_esq[0] < 20:  \n",
    "        return \"irlanda\""
   ]
  },
  {
   "cell_type": "code",
   "execution_count": null,
   "metadata": {},
   "outputs": [],
   "source": []
  },
  {
   "cell_type": "code",
   "execution_count": null,
   "metadata": {},
   "outputs": [],
   "source": []
  },
  {
   "cell_type": "code",
   "execution_count": 142,
   "metadata": {},
   "outputs": [],
   "source": [
    "## nao alterar essa função\n",
    "# Função para desenhar as bandeiras identificadas\n",
    "def draw_bandeiras(lista_bandeiras, bgr):\n",
    "    try:\n",
    "        for bandeira in lista_bandeiras:\n",
    "            cv2.rectangle(bgr, bandeira[1], bandeira[2], (255, 0, 0), 5)\n",
    "            cv2.putText(bgr, bandeira[0], bandeira[1], cv2.FONT_HERSHEY_SIMPLEX, 1, (255, 0, 0), 2, cv2.LINE_AA)\n",
    "        return bgr\n",
    "    except Exception as e:\n",
    "        return bgr"
   ]
  },
  {
   "cell_type": "code",
   "execution_count": 143,
   "metadata": {},
   "outputs": [
    {
     "name": "stdout",
     "output_type": "stream",
     "text": [
      "[('peru', (192, 496), (457, 674)), ('peru', (726, 162), (985, 370)), ('', (118, 121), (381, 296))]\n"
     ]
    },
    {
     "data": {
      "image/png": "[encoded data removed]",
      "text/plain": [
       "<Figure size 640x480 with 1 Axes>"
      ]
     },
     "metadata": {},
     "output_type": "display_data"
    }
   ],
   "source": [
    "## Para testar a função identifica_bandeira\n",
    "\n",
    "# Você pode testar a função identifica_bandeira com as imagens de teste fornecidas\n",
    "# \n",
    "img = cv2.imread('img/teste1.png')\n",
    "# img = cv2.imread('img/teste2.png')\n",
    "# img = cv2.imread('img/teste3.png')\n",
    "# img = cv2.imread('img/teste4.png')\n",
    "\n",
    "# Chamar a função identifica_bandeira\n",
    "resultado = identifica_bandeira(img)\n",
    "\n",
    "# Imprimir o resultado da função identifica_bandeira \n",
    "print(resultado)\n",
    "\n",
    "# Desenhar as bandeiras na imagem\n",
    "bgr = draw_bandeiras(resultado, img)\n",
    "plt.imshow(cv2.cvtColor(bgr, cv2.COLOR_BGR2RGB))\n",
    "plt.show()\n",
    "\n",
    "\n"
   ]
  },
  {
   "cell_type": "code",
   "execution_count": null,
   "metadata": {},
   "outputs": [],
   "source": []
  }
 ],
 "metadata": {
  "kernelspec": {
   "display_name": "Python 3",
   "language": "python",
   "name": "python3"
  },
  "language_info": {
   "codemirror_mode": {
    "name": "ipython",
    "version": 3
   },
   "file_extension": ".py",
   "mimetype": "text/x-python",
   "name": "python",
   "nbconvert_exporter": "python",
   "pygments_lexer": "ipython3",
   "version": "3.10.11"
  }
 },
 "nbformat": 4,
 "nbformat_minor": 2
}
